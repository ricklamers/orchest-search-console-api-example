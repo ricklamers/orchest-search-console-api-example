{
 "cells": [
  {
   "cell_type": "code",
   "execution_count": 1,
   "id": "b45bf627-23d1-49b8-a4e2-8c98365d10d8",
   "metadata": {
    "execution": {
     "iopub.execute_input": "2022-07-12T08:33:58.988078Z",
     "iopub.status.busy": "2022-07-12T08:33:58.987647Z",
     "iopub.status.idle": "2022-07-12T08:33:59.159907Z",
     "shell.execute_reply": "2022-07-12T08:33:59.159117Z"
    }
   },
   "outputs": [],
   "source": [
    "from google.oauth2 import service_account\n",
    "import googleapiclient.discovery"
   ]
  },
  {
   "cell_type": "code",
   "execution_count": 2,
   "id": "b8decca7-a4f4-480b-a193-eb51aaea27ab",
   "metadata": {
    "execution": {
     "iopub.execute_input": "2022-07-12T08:33:59.182379Z",
     "iopub.status.busy": "2022-07-12T08:33:59.182160Z",
     "iopub.status.idle": "2022-07-12T08:33:59.193802Z",
     "shell.execute_reply": "2022-07-12T08:33:59.193050Z"
    }
   },
   "outputs": [],
   "source": [
    "SCOPES = ['https://www.googleapis.com/auth/webmasters.readonly']\n",
    "SERVICE_ACCOUNT_FILE = '/data/secrets/persistent-orchest-a0867baaf002.json'\n",
    "\n",
    "credentials = service_account.Credentials.from_service_account_file(\n",
    "        SERVICE_ACCOUNT_FILE, scopes=SCOPES)"
   ]
  },
  {
   "cell_type": "code",
   "execution_count": 3,
   "id": "506729a0-1a64-4000-be39-6310dc2a2175",
   "metadata": {
    "execution": {
     "iopub.execute_input": "2022-07-12T08:33:59.211911Z",
     "iopub.status.busy": "2022-07-12T08:33:59.211639Z",
     "iopub.status.idle": "2022-07-12T08:33:59.220269Z",
     "shell.execute_reply": "2022-07-12T08:33:59.219428Z"
    }
   },
   "outputs": [],
   "source": [
    "API_SERVICE_NAME = 'searchconsole'\n",
    "API_VERSION = 'v1'"
   ]
  },
  {
   "cell_type": "code",
   "execution_count": 4,
   "id": "6c1ffbf3-31ff-4a63-a71f-109da491eed8",
   "metadata": {
    "execution": {
     "iopub.execute_input": "2022-07-12T08:33:59.230718Z",
     "iopub.status.busy": "2022-07-12T08:33:59.230507Z",
     "iopub.status.idle": "2022-07-12T08:33:59.417989Z",
     "shell.execute_reply": "2022-07-12T08:33:59.417322Z"
    }
   },
   "outputs": [
    {
     "name": "stdout",
     "output_type": "stream",
     "text": [
      "{'siteEntry': [{'siteUrl': 'https://orchest.io/', 'permissionLevel': 'siteFullUser'}]}\n"
     ]
    }
   ],
   "source": [
    "# Retrieve list of properties in account\n",
    "search_console_service = googleapiclient.discovery.build(\n",
    "  API_SERVICE_NAME, API_VERSION, credentials=credentials)\n",
    "\n",
    "site_list = search_console_service.sites().list().execute()\\\n",
    "\n",
    "print(site_list)"
   ]
  },
  {
   "cell_type": "code",
   "execution_count": 5,
   "id": "6493dc34-cb30-499c-b7af-cbbea0134238",
   "metadata": {
    "execution": {
     "iopub.execute_input": "2022-07-12T08:33:59.425763Z",
     "iopub.status.busy": "2022-07-12T08:33:59.425212Z",
     "iopub.status.idle": "2022-07-12T08:33:59.487240Z",
     "shell.execute_reply": "2022-07-12T08:33:59.486186Z"
    }
   },
   "outputs": [
    {
     "name": "stdout",
     "output_type": "stream",
     "text": [
      "{}\n"
     ]
    }
   ],
   "source": [
    "# Filter for verified URL-prefix websites.\n",
    "verified_sites_urls = [s['siteUrl'] for s in site_list['siteEntry']\n",
    "                    if s['permissionLevel'] != 'siteUnverifiedUser'\n",
    "                    and s['siteUrl'].startswith('http')]\n",
    "\n",
    "# Print the sitemaps for all websites that you can access.\n",
    "for site_url in verified_sites_urls:\n",
    "    # Retrieve list of sitemaps submitted\n",
    "    sitemaps = search_console_service.sitemaps().list(siteUrl=site_url).execute()\n",
    "    print(sitemaps)"
   ]
  }
 ],
 "metadata": {
  "kernelspec": {
   "display_name": "Python 3",
   "language": "python",
   "name": "orchest-kernel-60445ec4-767d-46be-a872-534de832f4ee"
  },
  "language_info": {
   "codemirror_mode": {
    "name": "ipython",
    "version": 3
   },
   "file_extension": ".py",
   "mimetype": "text/x-python",
   "name": "python",
   "nbconvert_exporter": "python",
   "pygments_lexer": "ipython3",
   "version": "3.9.10"
  }
 },
 "nbformat": 4,
 "nbformat_minor": 5
}
